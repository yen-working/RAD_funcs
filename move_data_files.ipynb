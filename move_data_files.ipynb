{
 "cells": [
  {
   "cell_type": "markdown",
   "metadata": {},
   "source": [
    "# Problem Statement\n",
    "A lot of the notebooks in the repo produce JSON and Excel files for data backups and comparisons. They pile up in the local folders.\n",
    "\n",
    "# Solution\n",
    "This notebook mass move these files into their respective folders."
   ]
  },
  {
   "cell_type": "markdown",
   "metadata": {},
   "source": [
    "# Code\n",
    "### 1. Get relevant directories\n",
    "- JSON folder\n",
    "- Excel folder"
   ]
  },
  {
   "cell_type": "code",
   "execution_count": null,
   "metadata": {},
   "outputs": [],
   "source": [
    "from pathlib import Path"
   ]
  },
  {
   "cell_type": "code",
   "execution_count": null,
   "metadata": {},
   "outputs": [],
   "source": [
    "file_types = [\"json\", \"xlsx\", \"zip\"]\n",
    "outer_dir = Path.cwd()"
   ]
  },
  {
   "cell_type": "code",
   "execution_count": null,
   "metadata": {},
   "outputs": [],
   "source": [
    "def get_dir(path: Path, dir: str) -> Path:\n",
    "    \"\"\"\n",
    "    Return the directory with name `dir` in `path`.\n",
    "    \"\"\"\n",
    "    for p in path.glob(f\"**/{dir}\"):\n",
    "        return p\n",
    "    # If not found dir, create dir\n",
    "    new_dir = path / Path(\"Files/\") / Path(f\"{dir}/\")\n",
    "    new_dir.mkdir(exist_ok=False)"
   ]
  },
  {
   "cell_type": "code",
   "execution_count": null,
   "metadata": {},
   "outputs": [],
   "source": [
    "for file_type in file_types:\n",
    "    dir = get_dir(outer_dir, file_type)"
   ]
  },
  {
   "cell_type": "markdown",
   "metadata": {},
   "source": [
    "### 2. Move files"
   ]
  },
  {
   "cell_type": "code",
   "execution_count": null,
   "metadata": {},
   "outputs": [],
   "source": [
    "def get_files(path: Path, file_type: str) -> list[Path]:\n",
    "    \"\"\"\n",
    "    Get list of files at `path` that is of `file_type` (recursive glob).\n",
    "    \"\"\"\n",
    "    return path.glob(f\"**/*.{file_type}\")"
   ]
  },
  {
   "cell_type": "code",
   "execution_count": null,
   "metadata": {},
   "outputs": [],
   "source": [
    "def move_file(file_path: Path, destination_path: Path) -> None:\n",
    "    \"\"\"\n",
    "    Move file at `file_path` to `destination_path`.\n",
    "    \"\"\"\n",
    "    file_name = file_path.name\n",
    "    file_path.rename(destination_path / file_name)"
   ]
  },
  {
   "cell_type": "code",
   "execution_count": null,
   "metadata": {},
   "outputs": [],
   "source": [
    "def move_files(file_types):\n",
    "    \"\"\"\n",
    "    Move files with `file_types` into designated folders.\n",
    "    \"\"\"\n",
    "    for file_type in file_types:\n",
    "        files = get_files(outer_dir, file_type)\n",
    "        for file_path in files:\n",
    "            destination_path = outer_dir / Path(\"Files/\") / Path(f\"{file_type}/\")\n",
    "            move_file(file_path, destination_path)"
   ]
  },
  {
   "cell_type": "code",
   "execution_count": null,
   "metadata": {},
   "outputs": [],
   "source": [
    "# Move files\n",
    "move_files(file_types)"
   ]
  }
 ],
 "metadata": {
  "kernelspec": {
   "display_name": "redcap-ambra",
   "language": "python",
   "name": "python3"
  },
  "language_info": {
   "codemirror_mode": {
    "name": "ipython",
    "version": 3
   },
   "file_extension": ".py",
   "mimetype": "text/x-python",
   "name": "python",
   "nbconvert_exporter": "python",
   "pygments_lexer": "ipython3",
   "version": "3.12.2"
  }
 },
 "nbformat": 4,
 "nbformat_minor": 2
}
