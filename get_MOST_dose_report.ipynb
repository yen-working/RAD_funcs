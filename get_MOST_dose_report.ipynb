{
 "cells": [
  {
   "cell_type": "markdown",
   "metadata": {},
   "source": [
    "# Problem Statement\n",
    "Need to list all series that are potential dose reports in MOST database.\n",
    "\n",
    "# Solution\n",
    "1. Filter series with <5 images\n",
    "2. Filter by study descriptions\n",
    "3. Manually review remaining\n",
    "4. Add data cleaning table to the database"
   ]
  },
  {
   "cell_type": "markdown",
   "metadata": {},
   "source": [
    "# Code\n",
    "### 1. Setup: get MOST's database and Inteleshare"
   ]
  },
  {
   "cell_type": "code",
   "execution_count": null,
   "metadata": {},
   "outputs": [],
   "source": [
    "import AMBRA_Backups\n",
    "import AMBRA_Utils\n",
    "import pandas as pd\n",
    "from datetime import datetime"
   ]
  },
  {
   "cell_type": "code",
   "execution_count": null,
   "metadata": {},
   "outputs": [],
   "source": [
    "db_name = \"MOST\"\n",
    "db = AMBRA_Backups.database.Database(db_name)"
   ]
  },
  {
   "cell_type": "code",
   "execution_count": null,
   "metadata": {},
   "outputs": [],
   "source": [
    "ambra_account_name = \"MOST\"\n",
    "ambra = AMBRA_Utils.utilities.get_api()\n",
    "account = ambra.get_account_by_name(ambra_account_name)"
   ]
  },
  {
   "cell_type": "markdown",
   "metadata": {},
   "source": [
    "### 2. Get dose reports from Database"
   ]
  },
  {
   "cell_type": "markdown",
   "metadata": {},
   "source": [
    "Get all series with <5 instances"
   ]
  },
  {
   "cell_type": "code",
   "execution_count": null,
   "metadata": {},
   "outputs": [],
   "source": [
    "columns = [\n",
    "    \"id_series\",\n",
    "    \"number_of_dicoms\",\n",
    "    \"series_description\",\n",
    "    \"id_study\",\n",
    "    \"study_description\",\n",
    "    \"study_uuid\",\n",
    "    \"series_count\",\n",
    "    \"id_patient\",\n",
    "    \"study_deleted\",\n",
    "    \"patient_name\",\n",
    "]"
   ]
  },
  {
   "cell_type": "code",
   "execution_count": null,
   "metadata": {},
   "outputs": [],
   "source": [
    "series = db.run_select_query(\n",
    "    \"\"\"\n",
    "   SELECT \n",
    "      img_series.id AS 'id_series', \n",
    "      img_series.number_of_dicoms, \n",
    "      img_series.series_description,\n",
    "      img_series.id_study, \n",
    "      studies.study_description, \n",
    "      studies.uuid, \n",
    "      studies.series_count,\n",
    "      studies.id_patient,\n",
    "      studies.deleted AS 'study_deleted', \n",
    "      patients.patient_name \n",
    "   FROM MOST.img_series \n",
    "   INNER JOIN studies ON studies.id = img_series.id_study\n",
    "   INNER JOIN patients ON studies.id_patient = patients.id\n",
    "   WHERE \n",
    "      deleted = 0\n",
    "   \"\"\"\n",
    ")\n",
    "series_df = pd.DataFrame(columns=columns, data=series)\n",
    "series_df.to_excel(f\"all_series_{datetime.now()}.xlsx\")"
   ]
  },
  {
   "cell_type": "markdown",
   "metadata": {},
   "source": [
    "Filter series with some variation of 'Dose_Record/Report'"
   ]
  },
  {
   "cell_type": "code",
   "execution_count": null,
   "metadata": {},
   "outputs": [],
   "source": [
    "series_dose_filtered = series_df[\n",
    "    (series_df[\"series_description\"].str.contains(\"dose\", case=False))\n",
    "    & (series_df[\"number_of_dicoms\"] < 5)\n",
    "]\n",
    "series_dose_filtered.to_excel(f\"dose_filtered_{datetime.now()}.xlsx\")\n",
    "series_dose_filtered"
   ]
  },
  {
   "cell_type": "markdown",
   "metadata": {},
   "source": [
    "### 3. Get dose reports that still exist on Inteleshare"
   ]
  },
  {
   "cell_type": "markdown",
   "metadata": {},
   "source": [
    "03/20/2025: In the database, there is currently no way to query the series that have already been deleted from studies. As such, this section gets existing studies on Inteleshare, then mark which series have been deleted."
   ]
  },
  {
   "cell_type": "code",
   "execution_count": null,
   "metadata": {},
   "outputs": [],
   "source": [
    "series_dose_filtered[\"exist_on_inteleshare\"] = 0\n",
    "series_dose_filtered[\"series_count_api\"] = series_dose_filtered[\"series_count\"]\n",
    "series_dose_filtered[\"studies_image_count\"] = 0"
   ]
  },
  {
   "cell_type": "code",
   "execution_count": null,
   "metadata": {},
   "outputs": [],
   "source": [
    "# Get existing series on Inteleshare, filter out ones not on Inteleshare\n",
    "unique_studies = series_dose_filtered[\"study_uuid\"].unique()\n",
    "\n",
    "for uuid in unique_studies:\n",
    "    study = account.get_study_by_uuid(uuid)\n",
    "\n",
    "    if not study:\n",
    "        raise Exception(f\"Study with uid {uuid} not found on Inteleshare!\")\n",
    "    if len(study) > 1 and isinstance(study, list):\n",
    "        raise ValueError(\n",
    "            f\"There are {len(study)} studies found with {uuid} on Inteleshare!\"\n",
    "        )\n",
    "\n",
    "    # Get image count\n",
    "    series_dose_filtered.loc[\n",
    "        (series_dose_filtered[\"study_uuid\"] == uuid),\n",
    "        \"studies_image_count\"\n",
    "    ] = study.image_count\n",
    "\n",
    "    # Get live series from Inteleshare\n",
    "\n",
    "    try:\n",
    "        live_series = list(study.get_series())\n",
    "    except Exception:\n",
    "        print(f\"\\t Study with uuid {uuid} likely does not exist on Inteleshare\")\n",
    "\n",
    "    for series in live_series:\n",
    "        series_db_description = series.formatted_description\n",
    "        if \"dose\" in series_db_description.lower():\n",
    "            # Filter\n",
    "            series_dose_filtered.loc[\n",
    "                (series_dose_filtered[\"study_uuid\"] == uuid)\n",
    "                & (series_dose_filtered[\"series_description\"] == series_db_description),\n",
    "                \"exist_on_inteleshare\",\n",
    "            ] = 1\n",
    "\n",
    "            # Get API number of series\n",
    "            series_dose_filtered.loc[\n",
    "                (series_dose_filtered[\"study_uuid\"] == uuid)\n",
    "                & (series_dose_filtered[\"series_description\"] == series_db_description),\n",
    "                \"series_count_api\",\n",
    "            ] = len(live_series)\n",
    "\n",
    "series_dose_filtered.drop_duplicates([\"study_uuid\"])\n",
    "series_dose_filtered.to_excel(f\"dose_filtered_existing_{datetime.now()}.xlsx\")"
   ]
  },
  {
   "cell_type": "code",
   "execution_count": null,
   "metadata": {},
   "outputs": [],
   "source": [
    "raise Exception(\"stop\")"
   ]
  },
  {
   "cell_type": "markdown",
   "metadata": {},
   "source": [
    "# Tests"
   ]
  },
  {
   "cell_type": "code",
   "execution_count": null,
   "metadata": {},
   "outputs": [],
   "source": [
    "ambra_account_name = \"MOST\"\n",
    "ambra = AMBRA_Utils.utilities.get_api()\n",
    "account = ambra.get_account_by_name(ambra_account_name)\n",
    "\n",
    "# uuid with dose report in original df\n",
    "# uuids = [\n",
    "#     'ad7dd78a-4c20-4060-8854-a3bf98b3a895', #1186\n",
    "#     '8d39235d-37b3-4ea8-9355-0508d4f991fd', #1200\n",
    "#     'c18e950b-5867-472a-aed9-ed6a2dc94e4d', #1195\n",
    "#     # '37c12364-5d28-4478-aa2d-163e13bc54f4', #1121, not found on inteleshare?\n",
    "#     '0d6e0008-50a2-4562-989d-e3fd282c71ad'  #1146\n",
    "#     '9377d953-9acc-4fef-863e-00ad5d4aa120'  #1121\n",
    "# ]\n",
    "\n",
    "uuid = \"8d39235d-37b3-4ea8-9355-0508d4f991fd\"\n",
    "\n",
    "\n",
    "study = account.get_study_by_uuid(uuid)\n",
    "\n",
    "if not study:\n",
    "    print(f\"uuid {uuid} not found\")\n",
    "else:\n",
    "    study.download(\n",
    "        zip_file=f\"./Files/{study.patient_name}_{study.formatted_description}.zip\",\n",
    "        ignore_exists=True,\n",
    "    )\n",
    "\n",
    "    series = list(study.get_series())\n",
    "    print(f\"\"\"\n",
    "    study:  {study}\n",
    "    uuid:       {uuid}\n",
    "    series:     {series}\n",
    "    \"\"\")"
   ]
  },
  {
   "cell_type": "code",
   "execution_count": null,
   "metadata": {},
   "outputs": [],
   "source": [
    "study.schema"
   ]
  }
 ],
 "metadata": {
  "kernelspec": {
   "display_name": "redcap-ambra",
   "language": "python",
   "name": "python3"
  },
  "language_info": {
   "codemirror_mode": {
    "name": "ipython",
    "version": 3
   },
   "file_extension": ".py",
   "mimetype": "text/x-python",
   "name": "python",
   "nbconvert_exporter": "python",
   "pygments_lexer": "ipython3",
   "version": "3.12.2"
  }
 },
 "nbformat": 4,
 "nbformat_minor": 2
}
