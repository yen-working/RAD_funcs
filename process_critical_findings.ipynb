{
 "cells": [
  {
   "cell_type": "markdown",
   "metadata": {},
   "source": [
    "# Questions\n",
    "\n",
    "1. About the file itself\n",
    "- Can I have an example file?\n",
    "- Need to extract the date & time from line ending in #888# -> Will there be more than one line that ends with #888#? Contains #888#? #888# evaluate? On that line, will there be more than one date? \n",
    "   - Communication date\n",
    "   - Within the hour of report creation\n",
    "- Will the date format always be the same?\n",
    "- Col E, F and G are calculations for time elapses from time on Col C to time in Col D -> So E, F, G will be the same? What is the desired date format? What will the names of each column?\n",
    "\n",
    "2. About the infrastructure\n",
    "- What's the frequency of this task? How often do you want this same processing?\n",
    "- What we are planning is to have a shared drive, where you put the files that need processing in there, and we will run the program on those files, and put the processed files into the same shared drive.\n",
    "- What this means is that there needs to be a person who regularly uploads the files that need processing into the shared drive.\n",
    "- Naming convention for the files that need processing might be necessary."
   ]
  },
  {
   "cell_type": "code",
   "execution_count": 4,
   "metadata": {},
   "outputs": [],
   "source": [
    "import pandas as pd\n",
    "import re\n",
    "import datetime\n",
    "import xlsxwriter\n",
    "from dateutil.parser import parse, ParserError\n",
    "from pathlib import Path"
   ]
  },
  {
   "cell_type": "code",
   "execution_count": 5,
   "metadata": {},
   "outputs": [],
   "source": [
    "last_month = (datetime.date.today().replace(day=1) - datetime.timedelta(days=1)).strftime(\"%B %Y\")\n",
    "file_name = f'Critical Results - {last_month}.xlsx'\n",
    "file_dir = Path('/Volumes/RadReportsAdmin/CR Folder')\n",
    "file_path = file_dir / file_name\n",
    "\n",
    "assert file_path.exists()"
   ]
  },
  {
   "cell_type": "code",
   "execution_count": 6,
   "metadata": {},
   "outputs": [],
   "source": [
    "multiple_888 = set()\n",
    "no_888 = set()\n",
    "no_date = set()\n",
    "weird_time_format = set()\n",
    "pattern_888 = re.compile(\".*#888.*\")\n"
   ]
  },
  {
   "cell_type": "code",
   "execution_count": 7,
   "metadata": {},
   "outputs": [],
   "source": [
    "def parse_helper(line: str):\n",
    "    \"\"\"\n",
    "    Parse `line` for datetime. Handle errors:\n",
    "    - Line with datetime, but raise error due to having numbers/month names \n",
    "    that precede the datetime substring.\n",
    "\n",
    "    If no datetime substring is found, return None.\n",
    "\n",
    "    Algorithm:\n",
    "    -------\n",
    "       Slice the start of `line` off until a datetime has been found, or \n",
    "       all sliced iterations have been processed.\n",
    "\n",
    "    Inputs:\n",
    "    --------\n",
    "    line (str): \n",
    "        The line with (potential) datetime.\n",
    "    \"\"\"\n",
    "    # 1. Slice line from start -> end\n",
    "    # Substring needs at least 8 characters to represent a datetime\n",
    "    n = len(line)\n",
    "\n",
    "    for i in range(n):\n",
    "        substring = line[i:]\n",
    "        try:\n",
    "            critical_result_date = parse(substring, ignoretz=True, fuzzy=True)\n",
    "            if (critical_result_date > datetime.datetime.now()) or (critical_result_date < datetime.datetime(2000, 1, 1)):\n",
    "                continue\n",
    "            \n",
    "            return critical_result_date\n",
    "        \n",
    "        except ParserError:\n",
    "            continue\n",
    "\n",
    "    return None\n"
   ]
  },
  {
   "cell_type": "code",
   "execution_count": 32,
   "metadata": {},
   "outputs": [],
   "source": [
    "def process_critical_results(excel_path: Path):\n",
    "   df = pd.read_excel(excel_path)\n",
    "   df['Report Text'] = df['Report Text'].str.replace('_x000D', '')\n",
    "   df['Called <\\n31 minutes'] = 0\n",
    "   df['Called < \\n61 minutes'] = 0\n",
    "   columns = list(df.columns)\n",
    "   columns[7] = 'Note'\n",
    "   df.columns = columns\n",
    "\n",
    "   # Find line with #888#\n",
    "   for index, row in df.iterrows():\n",
    "      report_text = row['Report Text'].strip().splitlines() # Row B\n",
    "      report_id = row['Sort#']\n",
    "\n",
    "      line_with_date = ''\n",
    "      critical_result_datetime = None\n",
    "\n",
    "      # Find all lines with #888#\n",
    "      found = []\n",
    "      for line in report_text:\n",
    "         if pattern_888.match(line):\n",
    "            found.append(line)\n",
    "\n",
    "      if not found:\n",
    "         no_888.add(report_id)\n",
    "         continue\n",
    "\n",
    "      # Get the first row with a valid datetime\n",
    "      for line_with_date in found:\n",
    "         critical_result_datetime = parse_helper(line_with_date)\n",
    "\n",
    "         if critical_result_datetime:\n",
    "            break\n",
    "\n",
    "      # If not found line with date\n",
    "      if not critical_result_datetime:\n",
    "         no_date.add(report_id)\n",
    "         continue\n",
    "\n",
    "      # Calculate other rows    \n",
    "      report_created = row['Report Created Date/Time'] # Row C\n",
    "      df.at[index, 'CR called Date/Time'] = critical_result_datetime\n",
    "      minutes_diff = (critical_result_datetime - report_created).total_seconds() / 60.0\n",
    "      df.at[index, 'Minutes From\\nCreated to Called'] = round(minutes_diff, 2)\n",
    "\n",
    "      if minutes_diff < 31:\n",
    "         df.at[index, 'Called <\\n31 minutes'] = 1\n",
    "      if minutes_diff < 61:\n",
    "         df.at[index, 'Called < \\n61 minutes'] = 1\n",
    "\n",
    "      # Note irregularities\n",
    "      irregular_text = []\n",
    "      \n",
    "      critical_result_time = f'{critical_result_datetime.hour}:{critical_result_datetime.minute}:{critical_result_datetime.second}'\n",
    "      \n",
    "      # Date likely not found\n",
    "      if critical_result_time == '0:0:0':\n",
    "         irregular_text.append('Time likely not parsed')\n",
    "\n",
    "      critical_result_date = critical_result_datetime.date()\n",
    "      \n",
    "      # Date likely not found\n",
    "      if critical_result_date == datetime.datetime.now().date():\n",
    "         irregular_text.append('Date likely not parsed')\n",
    "\n",
    "      # Date difference is big\n",
    "      if abs(minutes_diff) > 200:\n",
    "         irregular_text.append(\"Big Value\")\n",
    "\n",
    "      df.at[index, 'Note'] = ', '.join(irregular_text)\n",
    "\n",
    "      \n",
    "   # %Under 31 mins\n",
    "   df.rename(\n",
    "      columns={\n",
    "         df.columns[9]: len(df[df['Called <\\n31 minutes'] == 1]) / df.shape[0]\n",
    "      }, \n",
    "      inplace=True\n",
    "   ) \n",
    "\n",
    "   # %Under 61 minutes\n",
    "   df.rename(\n",
    "      columns={\n",
    "         df.columns[11]: len(df[df['Called < \\n61 minutes'] == 1]) / df.shape[0]\n",
    "      }, \n",
    "      inplace=True\n",
    "   ) \n",
    "   \n",
    "   return df\n"
   ]
  },
  {
   "cell_type": "code",
   "execution_count": 33,
   "metadata": {},
   "outputs": [
    {
     "name": "stderr",
     "output_type": "stream",
     "text": [
      "/var/folders/f2/ctzt5p2d52n88krcsfszn7zm0000gs/T/ipykernel_1900/3831165099.py:70: FutureWarning: Setting an item of incompatible dtype is deprecated and will raise an error in a future version of pandas. Value 'Date likely not parsed, Big Value' has dtype incompatible with float64, please explicitly cast to a compatible dtype first.\n",
      "  df.at[index, 'Note'] = ', '.join(irregular_text)\n"
     ]
    }
   ],
   "source": [
    "df = process_critical_results(file_path)"
   ]
  },
  {
   "cell_type": "code",
   "execution_count": 10,
   "metadata": {},
   "outputs": [],
   "source": [
    "def df_to_excel(df: pd.DataFrame):\n",
    "    \"\"\"\n",
    "    Create a fully formatted Excel file from DataFrame.\n",
    "\n",
    "    Inputs:\n",
    "    --------\n",
    "    df (pd.DataFrame): \n",
    "        DataFrame of Critical Findings data.\n",
    "    \"\"\"\n",
    "    writer = pd.ExcelWriter(\n",
    "                f'Processed_CR Findings_{datetime.datetime.now()}.xlsx',\n",
    "                engine='xlsxwriter',\n",
    "                # datetime_format='MM/dd/yyyy K:mm a'\n",
    "    )\n",
    "\n",
    "    df.to_excel(writer, startrow=1, header=False, sheet_name='Report')\n",
    "\n",
    "    workbook = writer.book\n",
    "    worksheet = writer.sheets['Report']\n",
    "\n",
    "    header_format = workbook.add_format({\n",
    "        'bold': True,\n",
    "        'text_wrap': True,\n",
    "        'valign': 'top',\n",
    "        'fg_color': '#1A1A24',\n",
    "        'font_color': '#FFFFFF'\n",
    "    })\n",
    "    \n",
    "    # Write the column headers with the defined format\n",
    "    for col_num, value in enumerate(df.columns.values[:-5]):\n",
    "        worksheet.write(0, col_num + 1, value, header_format)\n",
    "\n",
    "    # summary_format = workbook.add_format({\n",
    "    #     'bold': True,\n",
    "    #     'text_wrap': True,\n",
    "    #     'valign': 'top',\n",
    "    #     'fg_color': '909090',\n",
    "    #     'font_color': 'Black'\n",
    "    # })\n",
    "\n",
    "    # worksheet.write(0, 8, '%Under 31 mins', summary_format)\n",
    "    # worksheet.write(0, 10, '%Under 61 mins', summary_format)\n"
   ]
  },
  {
   "cell_type": "code",
   "execution_count": 35,
   "metadata": {},
   "outputs": [],
   "source": [
    "df.to_excel(f'Proccessed_{datetime.datetime.now()}.xlsx', index=False)"
   ]
  },
  {
   "cell_type": "code",
   "execution_count": 12,
   "metadata": {},
   "outputs": [],
   "source": [
    "# df_to_excel(df)"
   ]
  },
  {
   "cell_type": "code",
   "execution_count": 13,
   "metadata": {},
   "outputs": [
    {
     "name": "stdout",
     "output_type": "stream",
     "text": [
      "Lengths\n",
      "    multiple 888:   0\n",
      "    no_888:         0\n",
      "    no_date:        0\n",
      "    weird_time:     0\n",
      "    \n"
     ]
    }
   ],
   "source": [
    "print(\n",
    "    f'''Lengths\n",
    "    multiple 888:   {len(multiple_888)}\n",
    "    no_888:         {len(no_888)}\n",
    "    no_date:        {len(no_date)}\n",
    "    weird_time:     {len(weird_time_format)}\n",
    "    '''\n",
    ")"
   ]
  },
  {
   "cell_type": "code",
   "execution_count": 14,
   "metadata": {},
   "outputs": [
    {
     "data": {
      "text/plain": [
       "'Unnamed: 7'"
      ]
     },
     "execution_count": 14,
     "metadata": {},
     "output_type": "execute_result"
    }
   ],
   "source": [
    "df = pd.read_excel(file_path)\n",
    "df['Report Text'] = df['Report Text'].str.replace('_x000D_', '')\n",
    "\n",
    "df[df['Sort#'].isin(multiple_888)].to_excel('Multiple_888.xlsx')\n",
    "\n",
    "df.columns[7]\n",
    "\n"
   ]
  },
  {
   "cell_type": "code",
   "execution_count": 15,
   "metadata": {},
   "outputs": [],
   "source": [
    "multiple_888_text = df[df['Sort#'].isin(multiple_888)]['Report Text'].to_list()\n",
    "for t in multiple_888_text:\n",
    "    print('============================================')\n",
    "    print(t)"
   ]
  },
  {
   "cell_type": "code",
   "execution_count": 16,
   "metadata": {},
   "outputs": [],
   "source": [
    "no_date_text = df[df['Sort#'].isin(no_date)]['Report Text'].to_list()\n",
    "for t in no_date_text:\n",
    "    print('============================================')\n",
    "    print(t)"
   ]
  },
  {
   "cell_type": "code",
   "execution_count": 17,
   "metadata": {},
   "outputs": [],
   "source": [
    "weird_time_format_text = df[df['Sort#'].isin(weird_time_format)]['Report Text'].to_list()\n",
    "for t in weird_time_format_text:\n",
    "    print('============================================')\n",
    "    print(t)"
   ]
  },
  {
   "cell_type": "code",
   "execution_count": 18,
   "metadata": {},
   "outputs": [
    {
     "ename": "ParserError",
     "evalue": "Unknown string format: \nCritical Value: Age-indeterminate right lower lobe pulmonary embolism, which may be acute on chronic.  This finding was discussed with Victoria Martel, M.D. on 1/23/2025 at 5:04 PM by telephone.  They confirmed that they understood the findings communicated to them.\n",
     "output_type": "error",
     "traceback": [
      "\u001b[0;31m---------------------------------------------------------------------------\u001b[0m",
      "\u001b[0;31mParserError\u001b[0m                               Traceback (most recent call last)",
      "Cell \u001b[0;32mIn[18], line 4\u001b[0m\n\u001b[1;32m      1\u001b[0m test_string \u001b[38;5;241m=\u001b[39m \u001b[38;5;124m\"\"\"\u001b[39m\n\u001b[1;32m      2\u001b[0m \u001b[38;5;124mCritical Value: Age-indeterminate right lower lobe pulmonary embolism, which may be acute on chronic.  This finding was discussed with Victoria Martel, M.D. on 1/23/2025 at 5:04 PM by telephone.  They confirmed that they understood the findings communicated to them.\u001b[39m\n\u001b[1;32m      3\u001b[0m \u001b[38;5;124m\"\"\"\u001b[39m\n\u001b[0;32m----> 4\u001b[0m parse(test_string, fuzzy\u001b[38;5;241m=\u001b[39m\u001b[38;5;28;01mTrue\u001b[39;00m, ignoretz\u001b[38;5;241m=\u001b[39m\u001b[38;5;28;01mTrue\u001b[39;00m)\n",
      "File \u001b[0;32m~/miniconda3/envs/redcap-ambra/lib/python3.12/site-packages/dateutil/parser/_parser.py:1368\u001b[0m, in \u001b[0;36mparse\u001b[0;34m(timestr, parserinfo, **kwargs)\u001b[0m\n\u001b[1;32m   1366\u001b[0m     \u001b[38;5;28;01mreturn\u001b[39;00m parser(parserinfo)\u001b[38;5;241m.\u001b[39mparse(timestr, \u001b[38;5;241m*\u001b[39m\u001b[38;5;241m*\u001b[39mkwargs)\n\u001b[1;32m   1367\u001b[0m \u001b[38;5;28;01melse\u001b[39;00m:\n\u001b[0;32m-> 1368\u001b[0m     \u001b[38;5;28;01mreturn\u001b[39;00m DEFAULTPARSER\u001b[38;5;241m.\u001b[39mparse(timestr, \u001b[38;5;241m*\u001b[39m\u001b[38;5;241m*\u001b[39mkwargs)\n",
      "File \u001b[0;32m~/miniconda3/envs/redcap-ambra/lib/python3.12/site-packages/dateutil/parser/_parser.py:643\u001b[0m, in \u001b[0;36mparser.parse\u001b[0;34m(self, timestr, default, ignoretz, tzinfos, **kwargs)\u001b[0m\n\u001b[1;32m    640\u001b[0m res, skipped_tokens \u001b[38;5;241m=\u001b[39m \u001b[38;5;28mself\u001b[39m\u001b[38;5;241m.\u001b[39m_parse(timestr, \u001b[38;5;241m*\u001b[39m\u001b[38;5;241m*\u001b[39mkwargs)\n\u001b[1;32m    642\u001b[0m \u001b[38;5;28;01mif\u001b[39;00m res \u001b[38;5;129;01mis\u001b[39;00m \u001b[38;5;28;01mNone\u001b[39;00m:\n\u001b[0;32m--> 643\u001b[0m     \u001b[38;5;28;01mraise\u001b[39;00m ParserError(\u001b[38;5;124m\"\u001b[39m\u001b[38;5;124mUnknown string format: \u001b[39m\u001b[38;5;132;01m%s\u001b[39;00m\u001b[38;5;124m\"\u001b[39m, timestr)\n\u001b[1;32m    645\u001b[0m \u001b[38;5;28;01mif\u001b[39;00m \u001b[38;5;28mlen\u001b[39m(res) \u001b[38;5;241m==\u001b[39m \u001b[38;5;241m0\u001b[39m:\n\u001b[1;32m    646\u001b[0m     \u001b[38;5;28;01mraise\u001b[39;00m ParserError(\u001b[38;5;124m\"\u001b[39m\u001b[38;5;124mString does not contain a date: \u001b[39m\u001b[38;5;132;01m%s\u001b[39;00m\u001b[38;5;124m\"\u001b[39m, timestr)\n",
      "\u001b[0;31mParserError\u001b[0m: Unknown string format: \nCritical Value: Age-indeterminate right lower lobe pulmonary embolism, which may be acute on chronic.  This finding was discussed with Victoria Martel, M.D. on 1/23/2025 at 5:04 PM by telephone.  They confirmed that they understood the findings communicated to them.\n"
     ]
    }
   ],
   "source": [
    "test_string = \"\"\"\n",
    "Critical Value: Age-indeterminate right lower lobe pulmonary embolism, which may be acute on chronic.  This finding was discussed with Victoria Martel, M.D. on 1/23/2025 at 5:04 PM by telephone.  They confirmed that they understood the findings communicated to them.\n",
    "\"\"\"\n",
    "parse(test_string, fuzzy=True, ignoretz=True)"
   ]
  }
 ],
 "metadata": {
  "kernelspec": {
   "display_name": "redcap-ambra",
   "language": "python",
   "name": "python3"
  },
  "language_info": {
   "codemirror_mode": {
    "name": "ipython",
    "version": 3
   },
   "file_extension": ".py",
   "mimetype": "text/x-python",
   "name": "python",
   "nbconvert_exporter": "python",
   "pygments_lexer": "ipython3",
   "version": "3.12.2"
  }
 },
 "nbformat": 4,
 "nbformat_minor": 2
}
