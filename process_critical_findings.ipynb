{
 "cells": [
  {
   "cell_type": "markdown",
   "metadata": {},
   "source": [
    "# Questions\n",
    "\n",
    "1. About the file itself\n",
    "- Can I have an example file?\n",
    "- Need to extract the date & time from line ending in #888# -> Will there be more than one line that ends with #888#? Contains #888#? #888# evaluate? On that line, will there be more than one date? \n",
    "   - Communication date\n",
    "   - Within the hour of report creation\n",
    "- Will the date format always be the same?\n",
    "- Col E, F and G are calculations for time elapses from time on Col C to time in Col D -> So E, F, G will be the same? What is the desired date format? What will the names of each column?\n",
    "\n",
    "2. About the infrastructure\n",
    "- What's the frequency of this task? How often do you want this same processing?\n",
    "- What we are planning is to have a shared drive, where you put the files that need processing in there, and we will run the program on those files, and put the processed files into the same shared drive.\n",
    "- What this means is that there needs to be a person who regularly uploads the files that need processing into the shared drive.\n",
    "- Naming convention for the files that need processing might be necessary."
   ]
  },
  {
   "cell_type": "code",
   "execution_count": null,
   "metadata": {},
   "outputs": [],
   "source": [
    "import pandas as pd\n",
    "import datetime\n",
    "from dateutil.parser import parse, ParserError\n",
    "from pathlib import Path"
   ]
  },
  {
   "cell_type": "code",
   "execution_count": null,
   "metadata": {},
   "outputs": [],
   "source": [
    "last_month = (datetime.date.today().replace(day=1) - datetime.timedelta(days=1)).strftime(\"%B%Y\")\n",
    "file_to_process_name = f'CR - {last_month}'\n",
    "shared_dir = Path('/Volumes/')"
   ]
  },
  {
   "cell_type": "code",
   "execution_count": null,
   "metadata": {},
   "outputs": [
    {
     "ename": "SyntaxError",
     "evalue": "incomplete input (834033476.py, line 11)",
     "output_type": "error",
     "traceback": [
      "  \u001b[36mCell\u001b[39m\u001b[36m \u001b[39m\u001b[32mIn[2]\u001b[39m\u001b[32m, line 11\u001b[39m\n\u001b[31m    \u001b[39m\n    ^\n\u001b[31mSyntaxError\u001b[39m\u001b[31m:\u001b[39m incomplete input\n"
     ]
    }
   ],
   "source": [
    "def process_critical_findings(excel_path: Path):\n",
    "   df = pd.DataFrame(excel_path)\n",
    "\n",
    "   # Find line with #888#\n",
    "   for index, row in df.iterrows():\n",
    "      report_text = row['Report Text'].splitlines() # Row B\n",
    "      report_data = row['Report Created Date'] # Row C\n",
    "\n",
    "      line_with_date = ''\n",
    "      found = False\n",
    "      for line in report_text:\n",
    "         if '#888#' in line:\n",
    "            if found:\n",
    "               raise ValueError('Found more than 2 lines with #888# in Report Text.')\n",
    "            line_with_date = line\n",
    "            found = True\n",
    "\n",
    "      if line_with_date == '':\n",
    "         raise ValueError('Could not find a line with #888# in Report Text.')\n",
    "      \n",
    "      try:\n",
    "         critical_result_date = parse(line_with_date, fuzzy=True)\n",
    "\n",
    "      # When not found date time in #888# line\n",
    "      except ParserError: \n",
    "         raise ParserError('Did not find date in line with #888#.')\n",
    "\n",
    "      row['Finding date'] = critical_result_date\n",
    "\n",
    "      # Calculate other rows here      \n",
    "\n",
    "\n",
    "\n"
   ]
  },
  {
   "cell_type": "code",
   "execution_count": null,
   "metadata": {},
   "outputs": [],
   "source": []
  }
 ],
 "metadata": {
  "kernelspec": {
   "display_name": "redcap-ambra",
   "language": "python",
   "name": "python3"
  },
  "language_info": {
   "codemirror_mode": {
    "name": "ipython",
    "version": 3
   },
   "file_extension": ".py",
   "mimetype": "text/x-python",
   "name": "python",
   "nbconvert_exporter": "python",
   "pygments_lexer": "ipython3",
   "version": "3.12.0"
  }
 },
 "nbformat": 4,
 "nbformat_minor": 2
}
