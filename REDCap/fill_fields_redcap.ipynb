{
 "cells": [
  {
   "cell_type": "markdown",
   "metadata": {},
   "source": [
    "# Problem Statement\n",
    "\n",
    "When a field gets added to a live REDCap, CRPs would have to manually go through all the pre-existing records to fill out that field. \n",
    "\n",
    "Similarly, when a field currently has wrong value for multiple records and need its value changed, CRPs need to manually go in and fix these data points.\n",
    "\n",
    "This manual process may introduce human errors and take too much time for the CRPs.\n",
    "\n",
    "# Solution\n",
    "\n",
    "This notebook lets the user specify the filter on the records and the fields that need new/updated values. \n",
    "\n",
    "Then, it exports only the records that need to be changed. Changes are made on this export before getting re-imported to the project.\n",
    "\n",
    "**The notebook makes these changes in the Test project before actually making the changes in the Target project. Pay attention to the changes in the Test project and make sure of data integrity before moving forward with the Target project.**\n",
    "\n",
    "# Instructions\n",
    "\n",
    "### **TEST WITH TEST PROJECT BEFORE MAKING CHANGES TO THE TARGET PROJECT.**\n",
    "### Instructions: \n",
    "1. Copy the Target project's data into the Test project's data use the notebook `copy_records_redcap.ipynb`.\n",
    "3. Run this notebook."
   ]
  },
  {
   "cell_type": "markdown",
   "metadata": {},
   "source": [
    "# Code\n",
    "### 1. Setup: Specify condition & fields, get project and project data"
   ]
  },
  {
   "cell_type": "code",
   "execution_count": null,
   "metadata": {},
   "outputs": [],
   "source": [
    "import AMBRA_Backups\n",
    "import json\n",
    "from datetime import datetime\n",
    "from Change.Change import Change"
   ]
  },
  {
   "cell_type": "code",
   "execution_count": null,
   "metadata": {},
   "outputs": [],
   "source": [
    "# TEST PROJECT\n",
    "test_project_name = \"Personal Test\"\n",
    "test_project = AMBRA_Backups.redcap_funcs.get_redcap_project(test_project_name)\n",
    "\n",
    "# TARGET PROJECT\n",
    "target_project_name = \"I3C DECADE - Image Tracking\"\n",
    "target_project = AMBRA_Backups.redcap_funcs.get_redcap_project(target_project_name)"
   ]
  },
  {
   "cell_type": "code",
   "execution_count": null,
   "metadata": {},
   "outputs": [],
   "source": [
    "# FILTERS\n",
    "filter_logic = \"\"\"\n",
    "   [patient_status_1] = ''\n",
    "\"\"\"\n",
    "\n",
    "# LIST OF CHANGES NEEDED\n",
    "changes_needed = [{\"field_name\": \"patient_status_1\", \"old_value\": \"\", \"new_value\": \"1\"}]\n",
    "\n",
    "changes_needed = [Change(field_name=\"patient_status_1\", old_value=\"\", new_value=\"1\")]"
   ]
  },
  {
   "cell_type": "code",
   "execution_count": null,
   "metadata": {},
   "outputs": [],
   "source": [
    "def update_fields(records: list, changes_needed: list):\n",
    "    \"\"\"\n",
    "    Change the fields in `update_fields` into specified values in `records`.\n",
    "    \"\"\"\n",
    "\n",
    "    for record in records:\n",
    "        for change in changes_needed:\n",
    "            field_name = change[\"field_name\"]\n",
    "            current_value = record[field_name]\n",
    "\n",
    "            # Update value\n",
    "            if current_value == change[\"old_value\"]:\n",
    "                record[field_name] = change[\"new_value\"]\n",
    "\n",
    "    return records"
   ]
  },
  {
   "cell_type": "markdown",
   "metadata": {},
   "source": [
    "### 2. Testing with Test project"
   ]
  },
  {
   "cell_type": "code",
   "execution_count": null,
   "metadata": {},
   "outputs": [],
   "source": [
    "# Write current records of Test project to Excel file for later comparison\n",
    "test_records_df = test_project.export_records(\n",
    "    format_type=\"df\", export_blank_for_gray_form_status=True\n",
    ")\n",
    "test_records_df.to_excel(f\"{test_project_name}_before_update_{datetime.now()}.xlsx\")"
   ]
  },
  {
   "cell_type": "code",
   "execution_count": null,
   "metadata": {},
   "outputs": [],
   "source": [
    "# Get records with filters from test project\n",
    "test_filtered_records = test_project.export_records(\n",
    "    filter_logic=filter_logic, export_blank_for_gray_form_status=True\n",
    ")\n",
    "test_filtered_records"
   ]
  },
  {
   "cell_type": "code",
   "execution_count": null,
   "metadata": {},
   "outputs": [],
   "source": [
    "# Update the records\n",
    "test_updated_records = update_fields(test_filtered_records, changes_needed)\n",
    "test_updated_records"
   ]
  },
  {
   "cell_type": "code",
   "execution_count": null,
   "metadata": {},
   "outputs": [],
   "source": [
    "# Reimport back to Test project\n",
    "test_project.import_records(test_updated_records)"
   ]
  },
  {
   "cell_type": "markdown",
   "metadata": {},
   "source": [
    "### Go to `compare_projects.ipynb` to compare the Test project's data before vs. after being updated.\n",
    "After done comparing, set `compared = True`"
   ]
  },
  {
   "cell_type": "code",
   "execution_count": null,
   "metadata": {},
   "outputs": [],
   "source": [
    "compared = True\n",
    "\n",
    "if not compared:\n",
    "    raise Exception(\"Read above instructions.\")"
   ]
  },
  {
   "cell_type": "markdown",
   "metadata": {},
   "source": [
    "### 3. Fill fields in Target project\n"
   ]
  },
  {
   "cell_type": "code",
   "execution_count": null,
   "metadata": {},
   "outputs": [],
   "source": [
    "# Write current records of Target project to Excel file for later comparison\n",
    "target_records_df = target_project.export_records(\n",
    "    format_type=\"df\", export_blank_for_gray_form_status=True\n",
    ")\n",
    "target_records_df.to_excel(f\"{target_project_name}_before_update_{datetime.now()}.xlsx\")\n",
    "\n",
    "# Get JSON of current data in case anything goes wrong\n",
    "all_records_json = target_project.export_records(export_blank_for_gray_form_status=True)\n",
    "json_obj = json.dumps(all_records_json)\n",
    "\n",
    "with open(f\"{target_project_name}_{datetime.now()}.json\", \"w\") as f:\n",
    "    f.write(json_obj)"
   ]
  },
  {
   "cell_type": "code",
   "execution_count": null,
   "metadata": {},
   "outputs": [],
   "source": [
    "# Get records with filters from Target project\n",
    "target_filtered_records = target_project.export_records(\n",
    "    filter_logic=filter_logic, export_blank_for_gray_form_status=True\n",
    ")\n",
    "\n",
    "# Update the records\n",
    "target_updated_records = update_fields(target_filtered_records, changes_needed)\n",
    "\n",
    "# Reimport back to Test project\n",
    "target_project.import_records(target_updated_records)"
   ]
  },
  {
   "cell_type": "markdown",
   "metadata": {},
   "source": [
    "### Go to `compare_projects.ipynb` to compare the Target project's data before vs. after being updated.\n",
    "If anything goes wrong, you can always import the old data back."
   ]
  }
 ],
 "metadata": {
  "kernelspec": {
   "display_name": "redcap-ambra",
   "language": "python",
   "name": "python3"
  },
  "language_info": {
   "codemirror_mode": {
    "name": "ipython",
    "version": 3
   },
   "file_extension": ".py",
   "mimetype": "text/x-python",
   "name": "python",
   "nbconvert_exporter": "python",
   "pygments_lexer": "ipython3",
   "version": "3.12.2"
  }
 },
 "nbformat": 4,
 "nbformat_minor": 2
}
