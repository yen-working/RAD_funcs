{
 "cells": [
  {
   "cell_type": "markdown",
   "metadata": {},
   "source": [
    "# Problem\n",
    "\n",
    "There needs to be a way to compare:\n",
    "1. Two REDCap projects with each second.\n",
    "2. The REDCap project before vs. after.\n",
    "\n",
    "Because, for example, we need to know:\n",
    "1. Difference in data running a script on Test project vs. Target project\n",
    "2. Difference in data before vs. after running a script on a project.\n",
    "\n",
    "# Solution\n",
    "\n",
    "### This notebook is currently very limited. \n",
    "- It can only do effective comparison if the condition/filter logic is simple. \n",
    "- A simple filter logic is one that has only one condition. Something with multiple clauses like `[variable2] = '2' AND [variable3] = '3'` is not yet handled.\n",
    "\n",
    "This notebook compares REDCap data between 2 excel files.\n",
    "This Excel file can either be another project's data, or this project's data at a previous time point.\n",
    "\n"
   ]
  },
  {
   "cell_type": "markdown",
   "metadata": {},
   "source": [
    "# Code \n",
    "### 1. Define first & second excel files"
   ]
  },
  {
   "cell_type": "code",
   "execution_count": null,
   "metadata": {},
   "outputs": [],
   "source": [
    "import pandas as pd\n",
    "from datetime import datetime\n",
    "from Filter.Filter import Filter\n",
    "from Change.Change import Change\n",
    "from utils import check_equality"
   ]
  },
  {
   "cell_type": "code",
   "execution_count": null,
   "metadata": {},
   "outputs": [],
   "source": [
    "# FIRST: data that comes first\n",
    "first_excel_path = \"Personal Test_before_update.xlsx\"\n",
    "first_excel_df = pd.read_excel(first_excel_path)\n",
    "\n",
    "# OTHER: data that comes after\n",
    "second_excel_path = \"Personal Test_before_update.xlsx\"\n",
    "second_excel_df = pd.read_excel(second_excel_path)"
   ]
  },
  {
   "cell_type": "code",
   "execution_count": null,
   "metadata": {},
   "outputs": [],
   "source": [
    "# Define the conditions and their expected differences\n",
    "conditions_lst = [\n",
    "    Filter(\"[patient_status_1] = ''\", [Change(\"patient_status_1\", \"\", \"1\")])\n",
    "]"
   ]
  },
  {
   "cell_type": "markdown",
   "metadata": {},
   "source": [
    "### 2. Get merged and diff df"
   ]
  },
  {
   "cell_type": "code",
   "execution_count": null,
   "metadata": {},
   "outputs": [],
   "source": [
    "# Merge\n",
    "\n",
    "merged_df = pd.merge(first_excel_df, second_excel_df, how=\"outer\", indicator=True)\n",
    "diff_df = merged_df[merged_df[\"_merge\"] != \"both\"]"
   ]
  },
  {
   "cell_type": "code",
   "execution_count": null,
   "metadata": {},
   "outputs": [],
   "source": [
    "diff_df"
   ]
  },
  {
   "cell_type": "code",
   "execution_count": null,
   "metadata": {},
   "outputs": [],
   "source": [
    "diff_df.to_excel(f\"Diff_{datetime.now()}.xlsx\")\n",
    "merged_df.to_excel(f\"Merge_{datetime.now()}.xlsx\")"
   ]
  },
  {
   "cell_type": "markdown",
   "metadata": {},
   "source": [
    "### 3. Validate comparison"
   ]
  },
  {
   "cell_type": "markdown",
   "metadata": {},
   "source": [
    "Define what's the expected differences."
   ]
  },
  {
   "cell_type": "code",
   "execution_count": null,
   "metadata": {},
   "outputs": [],
   "source": [
    "def validate_conditions(conditions_lst, df):\n",
    "    first_row = df.iloc[0]\n",
    "    second_row = df.iloc[1]\n",
    "\n",
    "    for condition in conditions_lst:\n",
    "        field_name = condition.condition_field\n",
    "        operator = condition.condition_operator\n",
    "        value = condition.condition_value\n",
    "        changes = condition.changes\n",
    "\n",
    "        print(\"=========\")\n",
    "\n",
    "        first_value = first_row[field_name]\n",
    "        second_value = second_row[field_name]\n",
    "        print(\"Values:\")\n",
    "        print(f\"{first_value} -> {second_value}\")\n",
    "        condition_validated = operator(second_row[field_name], value)\n",
    "        if (value == \"''\") and (pd.isna(first_value)):\n",
    "            condition_validated = True\n",
    "\n",
    "        # If second_row satisfies condition, see if change is valid\n",
    "        if condition_validated:\n",
    "            for change in changes:\n",
    "                change_field_name = change.field_name\n",
    "                change_old_value = change.old_value\n",
    "                change_new_value = change.new_value\n",
    "\n",
    "                print(f\"\"\"Change:\n",
    "{change_field_name}\n",
    "{change_old_value}\n",
    "{change_new_value}\"\"\")\n",
    "                print(f\"\"\"\n",
    "second_row[change_field_name]: {second_row[change_field_name]}\n",
    "    \"\"\")\n",
    "\n",
    "                if check_equality(change_old_value, second_row[change_field_name]):\n",
    "                    print(\"Same!\")\n",
    "\n",
    "                # If this change is not applicable, skip\n",
    "                else:\n",
    "                    print(\"Different!\")\n",
    "                    continue\n",
    "\n",
    "                if not (\n",
    "                    check_equality(change_old_value, second_row[change_field_name])\n",
    "                    and check_equality(change_new_value, first_row[change_field_name])\n",
    "                ):\n",
    "                    raise ValueError(f\"\"\"Invalid difference with condition {condition.condition_obj}. \n",
    "                                     \n",
    "                                    Base row[change_field_name]:\n",
    "                                    {second_row[change_field_name]}\n",
    "                                    Change old value:\n",
    "                                    {change_old_value}\n",
    "\n",
    "                                    Other row:\n",
    "                                    {first_row[change_field_name]}\n",
    "                                    Change new value:\n",
    "                                    {change_new_value}\n",
    "                                     \"\"\")"
   ]
  },
  {
   "cell_type": "code",
   "execution_count": null,
   "metadata": {},
   "outputs": [],
   "source": [
    "diff_groupby_df = diff_df.groupby(\"record_id\")\n",
    "\n",
    "for name, group in diff_groupby_df:\n",
    "    if len(group) != 2:\n",
    "        raise Exception(f\"\"\"There should be exactly 2 rows each group. \n",
    "                        Name: {name}\n",
    "                        {group}\"\"\")\n",
    "    validate_conditions(conditions_lst, group)\n",
    "\n",
    "print(f\"Comparison successful! Between: \\n{first_excel_path}\\n{second_excel_path}\")"
   ]
  }
 ],
 "metadata": {
  "kernelspec": {
   "display_name": "redcap-ambra",
   "language": "python",
   "name": "python3"
  },
  "language_info": {
   "codemirror_mode": {
    "name": "ipython",
    "version": 3
   },
   "file_extension": ".py",
   "mimetype": "text/x-python",
   "name": "python",
   "nbconvert_exporter": "python",
   "pygments_lexer": "ipython3",
   "version": "3.12.2"
  }
 },
 "nbformat": 4,
 "nbformat_minor": 2
}
