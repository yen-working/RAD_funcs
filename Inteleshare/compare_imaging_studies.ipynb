{
 "cells": [
  {
   "cell_type": "markdown",
   "metadata": {},
   "source": [
    "# Problem Statement\n",
    "\n",
    "Given imaging studies, we want to be able to get the differences between them for Inteleshare testing purposes. For example, when deleting a study from a routed namespace, does it affect the original study in the main namespace?\n",
    "\n",
    "# Solution\n",
    "Given two paths to two imaging studies, the notebook compare them."
   ]
  },
  {
   "cell_type": "markdown",
   "metadata": {},
   "source": [
    "# Code\n",
    "### 1. Setup Imaging studies path"
   ]
  },
  {
   "cell_type": "code",
   "execution_count": null,
   "metadata": {},
   "outputs": [],
   "source": [
    "import difflib\n",
    "import pydicom as pdc\n",
    "from pathlib import Path"
   ]
  },
  {
   "cell_type": "code",
   "execution_count": null,
   "metadata": {},
   "outputs": [],
   "source": [
    "first_study = Path(f\"{Path.cwd()}/TESTSUBJT\")\n",
    "second_study = Path(f\"{Path.cwd()}/TESTSUBJT (3)\")"
   ]
  },
  {
   "cell_type": "markdown",
   "metadata": {},
   "source": [
    "# 2. Match DICOM files to each other (from first to second study)"
   ]
  },
  {
   "cell_type": "code",
   "execution_count": null,
   "metadata": {},
   "outputs": [],
   "source": [
    "# Iterate through first study directory, get all dicoms\n",
    "# then get dicoms from second study based on first study's path\n",
    "\n",
    "dicom_matches = []\n",
    "img_dirs = [x for x in first_study.iterdir() if (x.is_dir()) and (x.name != \"reports\")]\n",
    "\n",
    "for img_dir in img_dirs:\n",
    "    dicoms = [x for x in img_dir.iterdir() if x.is_file()]\n",
    "\n",
    "    for dicom in dicoms:\n",
    "        matched_dicom = dicom.parents[2] / second_study.name / img_dir.name / dicom.name\n",
    "\n",
    "        # Check if dicom exists in second img study\n",
    "        if matched_dicom.exists():\n",
    "            dicom_matches.append(\n",
    "                {\"first_study_dicom\": dicom, \"second_study_dicom\": matched_dicom}\n",
    "            )\n",
    "        else:\n",
    "            raise Exception(f\"Matched dicom for {dicom} not found!\")\n",
    "\n",
    "dicom_matches"
   ]
  },
  {
   "cell_type": "markdown",
   "metadata": {},
   "source": [
    "# 3. Compare the matches together"
   ]
  },
  {
   "cell_type": "markdown",
   "metadata": {},
   "source": [
    "Example output:\n",
    "```\n",
    "  Dataset.file_meta -------------------------------\n",
    "\n",
    "- (0002,0000) File Meta Information Group Length  UL: 190\n",
    "\n",
    "+ (0002,0000) File Meta Information Group Length  UL: 192\n",
    "\n",
    "  (0002,0001) File Meta Information Version       OB: b'\\x00\\x01'\n",
    "\n",
    "- (0002,0002) Media Storage SOP Class UID         UI: MR Image Storage\n",
    "\n",
    "+ (0002,0002) Media Storage SOP Class UID         UI: CT Image Storage\n",
    "\n",
    "  (0002,0010) Transfer Syntax UID                 UI: Explicit VR Little Endian\n",
    "\n",
    "  (0002,0012) Implementation Class UID            UI: 1.3.6.1.4.1.5962.2\n",
    "\n",
    "  (0002,0013) Implementation Version Name         SH: 'DCTOOL100'\n",
    "\n",
    "  (0002,0016) Source Application Entity Title     AE: 'CLUNIE1'\n",
    "\n",
    "  -------------------------------------------------\n",
    "\n",
    "- (0008,0018) SOP Instance UID                    UI: 1.3.6.1.4.1.5962.1.1.4.1.1.20040826185059.5457\n",
    "\n",
    "+ (0008,0018) SOP Instance UID                    UI: 1.3.6.1.4.1.5962.1.1.1.1.1.20040119072730.12322\n",
    "\n",
    "- (0008,0020) Study Date                          DA: '20040826'\n",
    "\n",
    "+ (0008,0020) Study Date                          DA: '20040119'\n",
    "\n",
    "- (0008,0021) Series Date                         DA: ''\n",
    "\n",
    "+ (0008,0021) Series Date                         DA: '19970430'\n",
    "```"
   ]
  },
  {
   "cell_type": "code",
   "execution_count": null,
   "metadata": {},
   "outputs": [],
   "source": [
    "for dicom_match in dicom_matches:\n",
    "    first_dicom = pdc.dcmread(dicom_match[\"first_study_dicom\"])\n",
    "    second_dicom = pdc.dcmread(dicom_match[\"second_study_dicom\"])\n",
    "\n",
    "    rep = []\n",
    "\n",
    "    for ds in [first_dicom, second_dicom]:\n",
    "        lines = str(ds).split(\"\\n\")\n",
    "        lines = [line + \"\\n\" for line in lines]\n",
    "        rep.append(lines)\n",
    "\n",
    "    diff = difflib.Differ()\n",
    "    for line in diff.compare(rep[0], rep[1]):\n",
    "        if line[0] != \"?\":\n",
    "            print(line)"
   ]
  }
 ],
 "metadata": {
  "kernelspec": {
   "display_name": "redcap-ambra",
   "language": "python",
   "name": "python3"
  },
  "language_info": {
   "codemirror_mode": {
    "name": "ipython",
    "version": 3
   },
   "file_extension": ".py",
   "mimetype": "text/x-python",
   "name": "python",
   "nbconvert_exporter": "python",
   "pygments_lexer": "ipython3",
   "version": "3.12.2"
  }
 },
 "nbformat": 4,
 "nbformat_minor": 2
}
