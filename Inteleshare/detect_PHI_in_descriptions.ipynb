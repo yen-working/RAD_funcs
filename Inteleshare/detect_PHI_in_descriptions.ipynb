{
 "cells": [
  {
   "cell_type": "markdown",
   "metadata": {},
   "source": [
    "# Problem Statement\n",
    "\n",
    "In imaging studies, PHI is generally wiped out by applying anonymization rules on DICOM tags, combined with the CRPs' efforts to delete series with PHI, or redact information burned on the images.\n",
    "\n",
    "However, in rare cases, PHI might come through in studies/series' descriptions. For example, the description would include the subjects' names.\n",
    "\n",
    "# Solution\n",
    "\n",
    "Using NLTK library, the notebook finds low frequencies words in the studies uploaded to the specified Inteleshare project."
   ]
  },
  {
   "cell_type": "markdown",
   "metadata": {},
   "source": [
    "# Code\n",
    "### 1. Setup Inteleshare project"
   ]
  },
  {
   "cell_type": "code",
   "execution_count": null,
   "metadata": {},
   "outputs": [],
   "source": [
    "import AMBRA_Utils\n",
    "import itertools\n",
    "from nltk import FreqDist, word_tokenize"
   ]
  },
  {
   "cell_type": "code",
   "execution_count": null,
   "metadata": {},
   "outputs": [],
   "source": [
    "ambra_account_name = \"MOST\"\n",
    "ambra = AMBRA_Utils.utilities.get_api()\n",
    "account = ambra.get_account_by_name(ambra_account_name)\n",
    "namespace = account.get_location_by_name('3 - Assigned Studies')"
   ]
  },
  {
   "cell_type": "markdown",
   "metadata": {},
   "source": [
    "# 2. Get all studies and series"
   ]
  },
  {
   "cell_type": "code",
   "execution_count": null,
   "metadata": {},
   "outputs": [],
   "source": [
    "studies = list(namespace.get_studies())"
   ]
  },
  {
   "cell_type": "code",
   "execution_count": null,
   "metadata": {},
   "outputs": [],
   "source": [
    "studies_desc_tokens = []\n",
    "series_desc_tokens = []\n",
    "\n",
    "for study in studies:\n",
    "    study_tokens = word_tokenize(' '.join(study.formatted_description.split('_')).lower())\n",
    "    studies_desc_tokens.append(study_tokens)\n",
    "    # studies_desc.append(study.formatted_description)\n",
    "    series = study.get_series()\n",
    "    for s in series:\n",
    "        s_tokens = word_tokenize(' '.join(s.formatted_description.split('_')).lower())\n",
    "        series_desc_tokens.append(s_tokens)"
   ]
  },
  {
   "cell_type": "code",
   "execution_count": null,
   "metadata": {},
   "outputs": [],
   "source": [
    "# Studies\n",
    "\n",
    "studies_desc_tokens_flat = list(itertools.chain.from_iterable(studies_desc_tokens))\n",
    "studies_desc_freq = FreqDist(studies_desc_tokens_flat)\n",
    "\n",
    "# Get least frequent\n",
    "num = 40\n",
    "studies_least_common = studies_desc_freq.most_common()[-num:]\n",
    "\n",
    "# Manually check if studies desc contains PHI\n",
    "studies_least_common"
   ]
  },
  {
   "cell_type": "code",
   "execution_count": null,
   "metadata": {},
   "outputs": [],
   "source": [
    "# Series\n",
    "\n",
    "series_desc_tokens_flat = list(itertools.chain.from_iterable(series_desc_tokens))\n",
    "\n",
    "# Get rid of hash strings by ignoring strings with more than 10 characters\n",
    "# and have more than 6 numbers\n",
    "series_desc_tokens_flat_filtered = []\n",
    "for series_token in series_desc_tokens_flat:\n",
    "    num_count = 0\n",
    "    for char in series_token:\n",
    "        if char.isdigit():\n",
    "            num_count += 1\n",
    "\n",
    "    if not (num_count >= 6 and len(series_desc_tokens) >= 10):\n",
    "        series_desc_tokens_flat_filtered.append(series_token)\n",
    "\n",
    "\n",
    "series_desc_freq = FreqDist(series_desc_tokens_flat_filtered)\n",
    "\n",
    "# Get least frequent\n",
    "num = 400\n",
    "series_least_common = series_desc_freq.most_common()[-num:]\n",
    "\n",
    "# Manually check if studies desc contains PHI\n",
    "series_least_common"
   ]
  }
 ],
 "metadata": {
  "kernelspec": {
   "display_name": "redcap-ambra",
   "language": "python",
   "name": "python3"
  },
  "language_info": {
   "codemirror_mode": {
    "name": "ipython",
    "version": 3
   },
   "file_extension": ".py",
   "mimetype": "text/x-python",
   "name": "python",
   "nbconvert_exporter": "python",
   "pygments_lexer": "ipython3",
   "version": "3.12.2"
  }
 },
 "nbformat": 4,
 "nbformat_minor": 2
}
