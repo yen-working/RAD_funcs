{
 "cells": [
  {
   "cell_type": "markdown",
   "metadata": {},
   "source": [
    "# Problem Statement\n",
    "Whenever the Imaging core needs to do a big data transfer/delivery to outside of the imaging core, there needs to be a document (called a Manifest) outlining what is in the package of data. For example, the data package would have 2 studies for patient A, but the manifest states that there should be 3. In such cases, we would be able to catch discrepancies and ensure data integrity.\n",
    "\n",
    "# Solution\n",
    "Produce a manifest of studies with:\n",
    "\n",
    "- patient name\n",
    "- study uid\n",
    "- study uuid\n",
    "- modality\n",
    "- study description\n",
    "- image count\n",
    "- study date\n",
    "- study time"
   ]
  },
  {
   "cell_type": "markdown",
   "metadata": {},
   "source": [
    "# Code \n",
    "### 1. Setup: get project's database"
   ]
  },
  {
   "cell_type": "code",
   "execution_count": null,
   "metadata": {},
   "outputs": [],
   "source": [
    "import AMBRA_Backups\n",
    "import pandas as pd\n",
    "import re\n",
    "from datetime import datetime"
   ]
  },
  {
   "cell_type": "code",
   "execution_count": null,
   "metadata": {},
   "outputs": [],
   "source": [
    "db_name = \"MOST\"\n",
    "db = AMBRA_Backups.database.Database(db_name)"
   ]
  },
  {
   "cell_type": "code",
   "execution_count": null,
   "metadata": {},
   "outputs": [],
   "source": [
    "# Define columns in Manifest\n",
    "columns = [\n",
    "    \"studies.id\",\n",
    "    \"patient_name\",\n",
    "    \"study_uid\",\n",
    "    \"uuid\",\n",
    "    \"modality\",\n",
    "    \"study_description\",\n",
    "    \"series_count\",\n",
    "    \"study_date\",\n",
    "]"
   ]
  },
  {
   "cell_type": "markdown",
   "metadata": {},
   "source": [
    "### 3. Get Manifest data from Database"
   ]
  },
  {
   "cell_type": "code",
   "execution_count": null,
   "metadata": {},
   "outputs": [],
   "source": [
    "manifest_data = db.run_select_query(\n",
    "    f\"\"\"\n",
    "   SELECT {', '.join(columns)}\n",
    "   FROM MOST.studies\n",
    "   INNER JOIN patients on patients.id = studies.id_patient\n",
    "   WHERE deleted = 0\n",
    "   \"\"\"\n",
    ")\n",
    "manifest_df = pd.DataFrame(columns=columns, data=manifest_data)\n",
    "\n",
    "rename_columns = []\n",
    "\n",
    "# Rename columns for Capitalization\n",
    "for col in columns:\n",
    "    split = re.split(r'[.|_]', col)\n",
    "    split = [s.capitalize() for s in split]\n",
    "    rename_columns.append(' '.join(split))\n",
    "\n",
    "manifest_df.columns = rename_columns\n",
    "manifest_df.to_excel(f'Manifest_{db_name}_{datetime.now()}.xlsx')"
   ]
  }
 ],
 "metadata": {
  "kernelspec": {
   "display_name": "redcap-ambra",
   "language": "python",
   "name": "python3"
  },
  "language_info": {
   "codemirror_mode": {
    "name": "ipython",
    "version": 3
   },
   "file_extension": ".py",
   "mimetype": "text/x-python",
   "name": "python",
   "nbconvert_exporter": "python",
   "pygments_lexer": "ipython3",
   "version": "3.12.2"
  }
 },
 "nbformat": 4,
 "nbformat_minor": 2
}
