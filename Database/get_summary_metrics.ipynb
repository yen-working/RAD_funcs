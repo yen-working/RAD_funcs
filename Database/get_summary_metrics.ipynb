{
 "cells": [
  {
   "cell_type": "markdown",
   "metadata": {},
   "source": [
    "# Problem Statement\n",
    "Getting Summary metrics is necessary for any trial.\n",
    "Basic metrics include number of subjects, studies, each modality..\n",
    "\n",
    "# Solution\n",
    "This notebook generates a DataFrame of metrics.\n",
    "\n",
    "- Number of patients\n",
    "- Number of Studies\n",
    "- Number of each modality\n",
    "- Number of verified CRFS"
   ]
  },
  {
   "cell_type": "markdown",
   "metadata": {},
   "source": [
    "# Code\n",
    "### 1. Setup: get project's database"
   ]
  },
  {
   "cell_type": "code",
   "execution_count": null,
   "metadata": {},
   "outputs": [],
   "source": [
    "import AMBRA_Backups\n",
    "import pandas as pd"
   ]
  },
  {
   "cell_type": "code",
   "execution_count": null,
   "metadata": {},
   "outputs": [],
   "source": [
    "db_name = \"MOST\"\n",
    "db = AMBRA_Backups.database.Database(db_name)"
   ]
  },
  {
   "cell_type": "markdown",
   "metadata": {},
   "source": [
    "### 2. Get metrics data from db"
   ]
  },
  {
   "cell_type": "code",
   "execution_count": null,
   "metadata": {},
   "outputs": [],
   "source": [
    "num_patients = db.run_select_query(\"SELECT COUNT(DISTINCT patient_name) FROM patients\")\n",
    "num_studies = db.run_select_query(\n",
    "    \"SELECT COUNT(DISTINCT uuid) FROM studies WHERE deleted = 0\"\n",
    ")\n",
    "num_each_modality = db.run_select_query(\n",
    "    \"SELECT modality, count(*) FROM MOST.studies GROUP BY modality\"\n",
    ")\n",
    "num_verified_crfs = db.run_select_query(\n",
    "    \"SELECT COUNT(DISTINCT crf_id) FROM MOST.CRF WHERE verified = 1\"\n",
    ")"
   ]
  },
  {
   "cell_type": "code",
   "execution_count": null,
   "metadata": {},
   "outputs": [],
   "source": [
    "data = [\n",
    "    (\"Number of subjects\", num_patients[0][0]),\n",
    "    (\"Number of studies\", num_studies[0][0]),\n",
    "    (\"Number of verified CRFs\", num_verified_crfs[0][0]),\n",
    "] + num_each_modality\n",
    "data"
   ]
  },
  {
   "cell_type": "code",
   "execution_count": null,
   "metadata": {},
   "outputs": [],
   "source": [
    "metrics_df = pd.DataFrame.from_records(data=data, columns=[\"Metric\", \"Value\"])\n",
    "metrics_df.to_excel(f\"{db_name}_summary_metrics.xlsx\")\n",
    "metrics_df"
   ]
  }
 ],
 "metadata": {
  "kernelspec": {
   "display_name": "redcap-ambra",
   "language": "python",
   "name": "python3"
  },
  "language_info": {
   "codemirror_mode": {
    "name": "ipython",
    "version": 3
   },
   "file_extension": ".py",
   "mimetype": "text/x-python",
   "name": "python",
   "nbconvert_exporter": "python",
   "pygments_lexer": "ipython3",
   "version": "3.12.2"
  }
 },
 "nbformat": 4,
 "nbformat_minor": 2
}
