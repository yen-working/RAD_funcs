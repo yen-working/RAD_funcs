{
 "cells": [
  {
   "cell_type": "markdown",
   "metadata": {},
   "source": [
    "# Problem Statement\n",
    "Getting Summary metrics is necessary for trials. Basic metrics include number of subjects, studies, each modality..\n",
    "\n",
    "# Solution\n",
    "This notebook generates a DataFrame of metrics, specified by user input."
   ]
  },
  {
   "cell_type": "markdown",
   "metadata": {},
   "source": [
    "# Code\n",
    "### 1. Setup: get project's database"
   ]
  },
  {
   "cell_type": "code",
   "execution_count": 1,
   "metadata": {},
   "outputs": [],
   "source": [
    "import AMBRA_Backups\n",
    "import pandas as pd\n",
    "from Metric.Metric import Metric"
   ]
  },
  {
   "cell_type": "code",
   "execution_count": 2,
   "metadata": {},
   "outputs": [],
   "source": [
    "db_name = 'MOST'\n",
    "db = AMBRA_Backups.database.Database(db_name)"
   ]
  },
  {
   "cell_type": "markdown",
   "metadata": {},
   "source": [
    "Specify metrics"
   ]
  },
  {
   "cell_type": "code",
   "execution_count": 3,
   "metadata": {},
   "outputs": [],
   "source": [
    "metrics = [\n",
    "   Metric('DISTINCT', 'patients'),\n",
    "   Metric('DISTINCT', 'studies')\n",
    "]"
   ]
  },
  {
   "cell_type": "markdown",
   "metadata": {},
   "source": [
    "### 2. Get metrics from db"
   ]
  },
  {
   "cell_type": "code",
   "execution_count": 4,
   "metadata": {},
   "outputs": [],
   "source": [
    "metrics_df = pd.DataFrame(columns=['Metric', 'Value'])"
   ]
  },
  {
   "cell_type": "code",
   "execution_count": 5,
   "metadata": {},
   "outputs": [
    {
     "ename": "AttributeError",
     "evalue": "'NoneType' object has no attribute 'cursor'",
     "output_type": "error",
     "traceback": [
      "\u001b[31m---------------------------------------------------------------------------\u001b[39m",
      "\u001b[31mAttributeError\u001b[39m                            Traceback (most recent call last)",
      "\u001b[36mCell\u001b[39m\u001b[36m \u001b[39m\u001b[32mIn[5]\u001b[39m\u001b[32m, line 3\u001b[39m\n\u001b[32m      1\u001b[39m \u001b[38;5;28;01mfor\u001b[39;00m metric \u001b[38;5;129;01min\u001b[39;00m metrics:\n\u001b[32m      2\u001b[39m    sql = metric.sql\n\u001b[32m----> \u001b[39m\u001b[32m3\u001b[39m    result = \u001b[43mdb\u001b[49m\u001b[43m.\u001b[49m\u001b[43mrun_select_query\u001b[49m\u001b[43m(\u001b[49m\u001b[43msql\u001b[49m\u001b[43m)\u001b[49m\n\u001b[32m      4\u001b[39m    \u001b[38;5;28mprint\u001b[39m(result)\n",
      "\u001b[36mFile \u001b[39m\u001b[32md:\\work\\packages\\ambra_backups\\AMBRA_Backups\\Database\\database.py:186\u001b[39m, in \u001b[36mDatabase.run_select_query\u001b[39m\u001b[34m(self, query, record, column_names, buffered, field_types)\u001b[39m\n\u001b[32m    172\u001b[39m \u001b[38;5;250m\u001b[39m\u001b[33;03m\"\"\"\u001b[39;00m\n\u001b[32m    173\u001b[39m \u001b[33;03mRuns an SQL SELECT query and return the results.\u001b[39;00m\n\u001b[32m    174\u001b[39m \n\u001b[32m    175\u001b[39m \u001b[33;03mDo not set buffered to True if you expect a large result to be returned.\u001b[39;00m\n\u001b[32m    176\u001b[39m \n\u001b[32m    177\u001b[39m \u001b[33;03m\"\"\"\u001b[39;00m\n\u001b[32m    178\u001b[39m \u001b[38;5;66;03m# with self.connection.cursor(buffered=buffered) as cursor:\u001b[39;00m\n\u001b[32m    179\u001b[39m \u001b[38;5;66;03m#     cursor.execute(query)\u001b[39;00m\n\u001b[32m    180\u001b[39m \u001b[38;5;66;03m#     while True:\u001b[39;00m\n\u001b[32m   (...)\u001b[39m\u001b[32m    184\u001b[39m \u001b[38;5;66;03m#         for result in results:\u001b[39;00m\n\u001b[32m    185\u001b[39m \u001b[38;5;66;03m#             yield result\u001b[39;00m\n\u001b[32m--> \u001b[39m\u001b[32m186\u001b[39m \u001b[38;5;28;01mwith\u001b[39;00m \u001b[38;5;28;43mself\u001b[39;49m\u001b[43m.\u001b[49m\u001b[43mconnection\u001b[49m\u001b[43m.\u001b[49m\u001b[43mcursor\u001b[49m(buffered=buffered) \u001b[38;5;28;01mas\u001b[39;00m cursor:\n\u001b[32m    187\u001b[39m     \u001b[38;5;28;01mif\u001b[39;00m record:\n\u001b[32m    188\u001b[39m         cursor.execute(query, record)\n",
      "\u001b[31mAttributeError\u001b[39m: 'NoneType' object has no attribute 'cursor'"
     ]
    }
   ],
   "source": [
    "for metric in metrics:\n",
    "   sql = metric.sql\n",
    "   result = db.run_select_query(sql)\n",
    "   print(result)"
   ]
  }
 ],
 "metadata": {
  "kernelspec": {
   "display_name": "redcap-ambra",
   "language": "python",
   "name": "python3"
  },
  "language_info": {
   "codemirror_mode": {
    "name": "ipython",
    "version": 3
   },
   "file_extension": ".py",
   "mimetype": "text/x-python",
   "name": "python",
   "nbconvert_exporter": "python",
   "pygments_lexer": "ipython3",
   "version": "3.12.0"
  }
 },
 "nbformat": 4,
 "nbformat_minor": 2
}
